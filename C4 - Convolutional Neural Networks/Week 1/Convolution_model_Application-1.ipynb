{
 "cells": [
  {
   "cell_type": "markdown",
   "metadata": {},
   "source": [
    "# Convolutional Neural Networks: Application\n",
    "\n",
    "Welcome to Course 4's second assignment! In this notebook, you will:\n",
    "\n",
    "- Create a mood classifer using the TF Keras Sequential API\n",
    "- Build a ConvNet to identify sign language digits using the TF Keras Functional API\n",
    "\n",
    "**After this assignment you will be able to:**\n",
    "\n",
    "- Build and train a ConvNet in TensorFlow for a __binary__ classification problem\n",
    "- Build and train a ConvNet in TensorFlow for a __multiclass__ classification problem\n",
    "- Explain different use cases for the Sequential and Functional APIs\n",
    "\n",
    "To complete this assignment, you should already be familiar with TensorFlow. If you are not, please refer back to the **TensorFlow Tutorial** of the third week of Course 2 (\"**Improving deep neural networks**\")."
   ]
  },
  {
   "cell_type": "markdown",
   "metadata": {},
   "source": [
    "## Table of Contents\n",
    "\n",
    "- [1 - Packages](#1)\n",
    "    - [1.1 - Load the Data and Split the Data into Train/Test Sets](#1-1)\n",
    "- [2 - Layers in TF Keras](#2)\n",
    "- [3 - The Sequential API](#3)\n",
    "    - [3.1 - Create the Sequential Model](#3-1)\n",
    "        - [Exercise 1 - happyModel](#ex-1)\n",
    "    - [3.2 - Train and Evaluate the Model](#3-2)\n",
    "- [4 - The Functional API](#4)\n",
    "    - [4.1 - Load the SIGNS Dataset](#4-1)\n",
    "    - [4.2 - Split the Data into Train/Test Sets](#4-2)\n",
    "    - [4.3 - Forward Propagation](#4-3)\n",
    "        - [Exercise 2 - convolutional_model](#ex-2)\n",
    "    - [4.4 - Train the Model](#4-4)\n",
    "- [5 - History Object](#5)\n",
    "- [6 - Bibliography](#6)"
   ]
  },
  {
   "cell_type": "markdown",
   "metadata": {},
   "source": [
    "<a name='1'></a>\n",
    "## 1 - Packages\n",
    "\n",
    "As usual, begin by loading in the packages."
   ]
  },
  {
   "cell_type": "code",
   "execution_count": 39,
   "metadata": {},
   "outputs": [],
   "source": [
    "import math\n",
    "import numpy as np\n",
    "import h5py\n",
    "import matplotlib.pyplot as plt\n",
    "from matplotlib.pyplot import imread\n",
    "import scipy\n",
    "from PIL import Image\n",
    "import pandas as pd\n",
    "import tensorflow as tf\n",
    "import tensorflow.keras.layers as tfl\n",
    "from tensorflow.python.framework import ops\n",
    "import cnn_utils\n",
    "from test_utils import summary, comparator\n",
    "\n",
    "%matplotlib inline\n",
    "np.random.seed(1)"
   ]
  },
  {
   "cell_type": "markdown",
   "metadata": {},
   "source": [
    "<a name='1-1'></a>\n",
    "### 1.1 - Load the Data and Split the Data into Train/Test Sets\n",
    "\n",
    "You'll be using the Happy House dataset for this part of the assignment, which contains images of peoples' faces. Your task will be to build a ConvNet that determines whether the people in the images are smiling or not -- because they only get to enter the house if they're smiling!  "
   ]
  },
  {
   "cell_type": "code",
   "execution_count": 33,
   "metadata": {},
   "outputs": [
    {
     "name": "stdout",
     "output_type": "stream",
     "text": [
      "number of training examples = 600\n",
      "number of test examples = 150\n",
      "X_train shape: (600, 64, 64, 3)\n",
      "Y_train shape: (600, 1)\n",
      "X_test shape: (150, 64, 64, 3)\n",
      "Y_test shape: (150, 1)\n"
     ]
    }
   ],
   "source": [
    "\n",
    "X_train_orig, Y_train_orig, X_test_orig, Y_test_orig, classes = load_happy_dataset()\n",
    "\n",
    "# Normalize image vectors\n",
    "X_train = X_train_orig/255.\n",
    "X_test = X_test_orig/255.\n",
    "\n",
    "# Reshape\n",
    "Y_train = Y_train_orig.T\n",
    "Y_test = Y_test_orig.T\n",
    "\n",
    "print (\"number of training examples = \" + str(X_train.shape[0]))\n",
    "print (\"number of test examples = \" + str(X_test.shape[0]))\n",
    "print (\"X_train shape: \" + str(X_train.shape))\n",
    "print (\"Y_train shape: \" + str(Y_train.shape))\n",
    "print (\"X_test shape: \" + str(X_test.shape))\n",
    "print (\"Y_test shape: \" + str(Y_test.shape))"
   ]
  },
  {
   "cell_type": "markdown",
   "metadata": {},
   "source": [
    "You can display the images contained in the dataset. Images are **64x64** pixels in RGB format (3 channels)."
   ]
  },
  {
   "cell_type": "code",
   "execution_count": 34,
   "metadata": {},
   "outputs": [
    {
     "data": {
      "image/png": "[encoded data removed]",
      "text/plain": [
       "<Figure size 432x288 with 1 Axes>"
      ]
     },
     "metadata": {
      "needs_background": "light"
     },
     "output_type": "display_data"
    }
   ],
   "source": [
    "index = 124\n",
    "plt.imshow(X_train_orig[index]) #display sample training image\n",
    "plt.show()"
   ]
  },
  {
   "cell_type": "markdown",
   "metadata": {},
   "source": [
    "<a name='2'></a>\n",
    "## 2 - Layers in TF Keras \n",
    "\n",
    "In the previous assignment, you created layers manually in numpy. In TF Keras, you don't have to write code directly to create layers. Rather, TF Keras has pre-defined layers you can use. \n",
    "\n",
    "When you create a layer in TF Keras, you are creating a function that takes some input and transforms it into an output you can reuse later. Nice and easy! "
   ]
  },
  {
   "cell_type": "markdown",
   "metadata": {},
   "source": [
    "<a name='3'></a>\n",
    "## 3 - The Sequential API\n",
    "\n",
    "In the previous assignment, you built helper functions using `numpy` to understand the mechanics behind convolutional neural networks. Most practical applications of deep learning today are built using programming frameworks, which have many built-in functions you can simply call. Keras is a high-level abstraction built on top of TensorFlow, which allows for even more simplified and optimized model creation and training. \n",
    "\n",
    "For the first part of this assignment, you'll create a model using TF Keras' Sequential API, which allows you to build layer by layer, and is ideal for building models where each layer has **exactly one** input tensor and **one** output tensor. \n",
    "\n",
    "As you'll see, using the Sequential API is simple and straightforward, but is only appropriate for simpler, more straightforward tasks. Later in this notebook you'll spend some time building with a more flexible, powerful alternative: the Functional API. \n",
    " "
   ]
  },
  {
   "cell_type": "markdown",
   "metadata": {},
   "source": [
    "<a name='3-1'></a>\n",
    "### 3.1 - Create the Sequential Model\n",
    "\n",
    "As mentioned earlier, the TensorFlow Keras Sequential API can be used to build simple models with layer operations that proceed in a sequential order. \n",
    "\n",
    "You can also add layers incrementally to a Sequential model with the `.add()` method, or remove them using the `.pop()` method, much like you would in a regular Python list.\n",
    "\n",
    "Actually, you can think of a Sequential model as behaving like a list of layers. Like Python lists, Sequential layers are ordered, and the order in which they are specified matters.  If your model is non-linear or contains layers with multiple inputs or outputs, a Sequential model wouldn't be the right choice!\n",
    "\n",
    "For any layer construction in Keras, you'll need to specify the input shape in advance. This is because in Keras, the shape of the weights is based on the shape of the inputs. The weights are only created when the model first sees some input data. Sequential models can be created by passing a list of layers to the Sequential constructor, like you will do in the next assignment.\n",
    "\n",
    "<a name='ex-1'></a>\n",
    "### Exercise 1 - happyModel\n",
    "\n",
    "Implement the `happyModel` function below to build the following model: `ZEROPAD2D -> CONV2D -> BATCHNORM -> RELU -> MAXPOOL -> FLATTEN -> DENSE`. Take help from [tf.keras.layers](https://www.tensorflow.org/api_docs/python/tf/keras/layers) \n",
    "\n",
    "Also, plug in the following parameters for all the steps:\n",
    "\n",
    " - [ZeroPadding2D](https://www.tensorflow.org/api_docs/python/tf/keras/layers/ZeroPadding2D): padding 3, input shape 64 x 64 x 3\n",
    " - [Conv2D](https://www.tensorflow.org/api_docs/python/tf/keras/layers/Conv2D): Use 32 7x7 filters, stride 1\n",
    " - [BatchNormalization](https://www.tensorflow.org/api_docs/python/tf/keras/layers/BatchNormalization): for axis 3\n",
    " - [ReLU](https://www.tensorflow.org/api_docs/python/tf/keras/layers/ReLU)\n",
    " - [MaxPool2D](https://www.tensorflow.org/api_docs/python/tf/keras/layers/MaxPool2D): Using default parameters\n",
    " - [Flatten](https://www.tensorflow.org/api_docs/python/tf/keras/layers/Flatten) the previous output.\n",
    " - Fully-connected ([Dense](https://www.tensorflow.org/api_docs/python/tf/keras/layers/Dense)) layer: Apply a fully connected layer with 1 neuron and a sigmoid activation. \n",
    " \n",
    " \n",
    " **Hint:**\n",
    " \n",
    " Use **tfl** as shorthand for **tensorflow.keras.layers**"
   ]
  },
  {
   "cell_type": "code",
   "execution_count": 35,
   "metadata": {
    "deletable": false,
    "nbgrader": {
     "cell_type": "code",
     "checksum": "95d28b191f257bdd5b70c7b8952559d5",
     "grade": false,
     "grade_id": "cell-0e56d3fc28b69aec",
     "locked": false,
     "schema_version": 3,
     "solution": true,
     "task": false
    }
   },
   "outputs": [],
   "source": [
    "# GRADED FUNCTION: happyModel\n",
    "\n",
    "def happyModel():\n",
    "    \"\"\"\n",
    "    Implements the forward propagation for the binary classification model:\n",
    "    ZEROPAD2D -> CONV2D -> BATCHNORM -> RELU -> MAXPOOL -> FLATTEN -> DENSE\n",
    "    \n",
    "    Note that for simplicity and grading purposes, you'll hard-code all the values\n",
    "    such as the stride and kernel (filter) sizes. \n",
    "    Normally, functions should take these values as function parameters.\n",
    "    \n",
    "    Arguments:\n",
    "    None\n",
    "\n",
    "    Returns:\n",
    "    model -- TF Keras model (object containing the information for the entire training process) \n",
    "    \"\"\"\n",
    "    model = tf.keras.Sequential([\n",
    "            ## ZeroPadding2D with padding 3, input shape of 64 x 64 x 3\n",
    "            \n",
    "            ## Conv2D with 32 7x7 filters and stride of 1\n",
    "            \n",
    "            ## BatchNormalization for axis 3\n",
    "            \n",
    "            ## ReLU\n",
    "            \n",
    "            ## Max Pooling 2D with default parameters\n",
    "            \n",
    "            ## Flatten layer\n",
    "            \n",
    "            ## Dense layer with 1 unit for output & 'sigmoid' activation\n",
    "            \n",
    "            # YOUR CODE STARTS HERE\n",
    "            tfl.InputLayer(input_shape=(64, 64, 3)),\n",
    "            tfl.ZeroPadding2D(padding = 3),\n",
    "            tfl.Conv2D(32, (7, 7), strides = (1,1)),\n",
    "            tfl.BatchNormalization(axis = 3),\n",
    "            tfl.ReLU(),\n",
    "            tfl.MaxPool2D(),\n",
    "            tfl.Flatten(),\n",
    "            tfl.Dense(1, activation='sigmoid')\n",
    "            # YOUR CODE ENDS HERE\n",
    "        ])\n",
    "    \n",
    "    return model"
   ]
  },
  {
   "cell_type": "code",
   "execution_count": 36,
   "metadata": {
    "deletable": false,
    "editable": false,
    "nbgrader": {
     "cell_type": "code",
     "checksum": "8d3575c950e2e78149be2d05d671c80d",
     "grade": true,
     "grade_id": "cell-e3e1046e5c33d775",
     "locked": true,
     "points": 10,
     "schema_version": 3,
     "solution": false,
     "task": false
    }
   },
   "outputs": [
    {
     "name": "stdout",
     "output_type": "stream",
     "text": [
      "['ZeroPadding2D', (None, 70, 70, 3), 0, ((3, 3), (3, 3))]\n",
      "['Conv2D', (None, 64, 64, 32), 4736, 'valid', 'linear', 'GlorotUniform']\n",
      "['BatchNormalization', (None, 64, 64, 32), 128]\n",
      "['ReLU', (None, 64, 64, 32), 0]\n",
      "['MaxPooling2D', (None, 32, 32, 32), 0, (2, 2), (2, 2), 'valid']\n",
      "['Flatten', (None, 32768), 0]\n",
      "['Dense', (None, 1), 32769, 'sigmoid']\n",
      "\u001b[32mAll tests passed!\u001b[0m\n"
     ]
    }
   ],
   "source": [
    "happy_model = happyModel()\n",
    "# Print a summary for each layer\n",
    "for layer in summary(happy_model):\n",
    "    print(layer)\n",
    "    \n",
    "output = [['ZeroPadding2D', (None, 70, 70, 3), 0, ((3, 3), (3, 3))],\n",
    "            ['Conv2D', (None, 64, 64, 32), 4736, 'valid', 'linear', 'GlorotUniform'],\n",
    "            ['BatchNormalization', (None, 64, 64, 32), 128],\n",
    "            ['ReLU', (None, 64, 64, 32), 0],\n",
    "            ['MaxPooling2D', (None, 32, 32, 32), 0, (2, 2), (2, 2), 'valid'],\n",
    "            ['Flatten', (None, 32768), 0],\n",
    "            ['Dense', (None, 1), 32769, 'sigmoid']]\n",
    "    \n",
    "comparator(summary(happy_model), output)"
   ]
  },
  {
   "cell_type": "markdown",
   "metadata": {},
   "source": [
    "Now that your model is created, you can compile it for training with an optimizer and loss of your choice. When the string `accuracy` is specified as a metric, the type of accuracy used will be automatically converted based on the loss function used. This is one of the many optimizations built into TensorFlow that make your life easier! If you'd like to read more on how the compiler operates, check the docs [here](https://www.tensorflow.org/api_docs/python/tf/keras/Model#compile)."
   ]
  },
  {
   "cell_type": "code",
   "execution_count": 37,
   "metadata": {},
   "outputs": [],
   "source": [
    "happy_model.compile(optimizer='adam',\n",
    "                   loss='binary_crossentropy',\n",
    "                   metrics=['accuracy'])"
   ]
  },
  {
   "cell_type": "markdown",
   "metadata": {},
   "source": [
    "It's time to check your model's parameters with the `.summary()` method. This will display the types of layers you have, the shape of the outputs, and how many parameters are in each layer. "
   ]
  },
  {
   "cell_type": "code",
   "execution_count": 17,
   "metadata": {},
   "outputs": [
    {
     "name": "stdout",
     "output_type": "stream",
     "text": [
      "Model: \"sequential\"\n",
      "_________________________________________________________________\n",
      "Layer (type)                 Output Shape              Param #   \n",
      "=================================================================\n",
      "zero_padding2d (ZeroPadding2 (None, 70, 70, 3)         0         \n",
      "_________________________________________________________________\n",
      "conv2d (Conv2D)              (None, 64, 64, 32)        4736      \n",
      "_________________________________________________________________\n",
      "batch_normalization (BatchNo (None, 64, 64, 32)        128       \n",
      "_________________________________________________________________\n",
      "re_lu (ReLU)                 (None, 64, 64, 32)        0         \n",
      "_________________________________________________________________\n",
      "max_pooling2d (MaxPooling2D) (None, 32, 32, 32)        0         \n",
      "_________________________________________________________________\n",
      "flatten (Flatten)            (None, 32768)             0         \n",
      "_________________________________________________________________\n",
      "dense (Dense)                (None, 1)                 32769     \n",
      "=================================================================\n",
      "Total params: 37,633\n",
      "Trainable params: 37,569\n",
      "Non-trainable params: 64\n",
      "_________________________________________________________________\n"
     ]
    }
   ],
   "source": [
    "happy_model.summary()"
   ]
  },
  {
   "cell_type": "markdown",
   "metadata": {},
   "source": [
    "<a name='3-2'></a>\n",
    "### 3.2 - Train and Evaluate the Model\n",
    "\n",
    "After creating the model, compiling it with your choice of optimizer and loss function, and doing a sanity check on its contents, you are now ready to build! \n",
    "\n",
    "Simply call `.fit()` to train. That's it! No need for mini-batching, saving, or complex backpropagation computations. That's all been done for you, as you're using a TensorFlow dataset with the batches specified already. You do have the option to specify epoch number or minibatch size if you like (for example, in the case of an un-batched dataset)."
   ]
  },
  {
   "cell_type": "code",
   "execution_count": 18,
   "metadata": {},
   "outputs": [
    {
     "name": "stdout",
     "output_type": "stream",
     "text": [
      "Epoch 1/10\n",
      "38/38 [==============================] - 1s 29ms/step - loss: 1.4078 - accuracy: 0.6517\n",
      "Epoch 2/10\n",
      "38/38 [==============================] - 1s 29ms/step - loss: 0.2867 - accuracy: 0.9017\n",
      "Epoch 3/10\n",
      "38/38 [==============================] - 1s 29ms/step - loss: 0.1358 - accuracy: 0.9533\n",
      "Epoch 4/10\n",
      "38/38 [==============================] - 1s 29ms/step - loss: 0.0901 - accuracy: 0.9667\n",
      "Epoch 5/10\n",
      "38/38 [==============================] - 1s 29ms/step - loss: 0.1280 - accuracy: 0.9533\n",
      "Epoch 6/10\n",
      "38/38 [==============================] - 1s 29ms/step - loss: 0.1586 - accuracy: 0.9417\n",
      "Epoch 7/10\n",
      "38/38 [==============================] - 1s 29ms/step - loss: 0.0889 - accuracy: 0.9750\n",
      "Epoch 8/10\n",
      "38/38 [==============================] - 1s 29ms/step - loss: 0.0938 - accuracy: 0.9650\n",
      "Epoch 9/10\n",
      "38/38 [==============================] - 1s 29ms/step - loss: 0.0716 - accuracy: 0.9700\n",
      "Epoch 10/10\n",
      "38/38 [==============================] - 1s 29ms/step - loss: 0.0816 - accuracy: 0.9717\n"
     ]
    },
    {
     "data": {
      "text/plain": [
       "<tensorflow.python.keras.callbacks.History at 0x1690f7a11c0>"
      ]
     },
     "execution_count": 18,
     "metadata": {},
     "output_type": "execute_result"
    }
   ],
   "source": [
    "happy_model.fit(X_train, Y_train, epochs=10, batch_size=16)"
   ]
  },
  {
   "cell_type": "markdown",
   "metadata": {},
   "source": [
    "After that completes, just use `.evaluate()` to evaluate against your test set. This function will print the value of the loss function and the performance metrics specified during the compilation of the model. In this case, the `binary_crossentropy` and the `accuracy` respectively."
   ]
  },
  {
   "cell_type": "code",
   "execution_count": 19,
   "metadata": {},
   "outputs": [
    {
     "name": "stdout",
     "output_type": "stream",
     "text": [
      "5/5 [==============================] - 0s 7ms/step - loss: 0.1685 - accuracy: 0.9333\n"
     ]
    },
    {
     "data": {
      "text/plain": [
       "[0.1685308814048767, 0.9333333373069763]"
      ]
     },
     "execution_count": 19,
     "metadata": {},
     "output_type": "execute_result"
    }
   ],
   "source": [
    "happy_model.evaluate(X_test, Y_test)"
   ]
  },
  {
   "cell_type": "markdown",
   "metadata": {},
   "source": [
    "Easy, right? But what if you need to build a model with shared layers, branches, or multiple inputs and outputs? This is where Sequential, with its beautifully simple yet limited functionality, won't be able to help you. \n",
    "\n",
    "Next up: Enter the Functional API, your slightly more complex, highly flexible friend.  "
   ]
  },
  {
   "cell_type": "markdown",
   "metadata": {},
   "source": [
    "<a name='4'></a>\n",
    "## 4 - The Functional API"
   ]
  },
  {
   "cell_type": "markdown",
   "metadata": {},
   "source": [
    "Welcome to the second half of the assignment, where you'll use Keras' flexible [Functional API](https://www.tensorflow.org/guide/keras/functional) to build a ConvNet that can differentiate between 6 sign language digits. \n",
    "\n",
    "The Functional API can handle models with non-linear topology, shared layers, as well as layers with multiple inputs or outputs. Imagine that, where the Sequential API requires the model to move in a linear fashion through its layers, the Functional API allows much more flexibility. Where Sequential is a straight line, a Functional model is a graph, where the nodes of the layers can connect in many more ways than one. \n",
    "\n",
    "In the visual example below, the one possible direction of the movement Sequential model is shown in contrast to a skip connection, which is just one of the many ways a Functional model can be constructed. A skip connection, as you might have guessed, skips some layer in the network and feeds the output to a later layer in the network. Don't worry, you'll be spending more time with skip connections very soon! "
   ]
  },
  {
   "cell_type": "markdown",
   "metadata": {},
   "source": [
    "<img src=\"images/seq_vs_func.png\" style=\"width:350px;height:200px;\">"
   ]
  },
  {
   "cell_type": "markdown",
   "metadata": {},
   "source": [
    "<a name='4-1'></a>\n",
    "### 4.1 - Load the SIGNS Dataset\n",
    "\n",
    "As a reminder, the SIGNS dataset is a collection of 6 signs representing numbers from 0 to 5."
   ]
  },
  {
   "cell_type": "code",
   "execution_count": 42,
   "metadata": {},
   "outputs": [
    {
     "ename": "ImportError",
     "evalue": "cannot import name 'load_signs_dataset' from 'cnn_utils' (C:\\Users\\admin\\Desktop\\coursera-deep-learning-specialization-master\\C4 - Convolutional Neural Networks\\Week 1\\cnn_utils.py)",
     "output_type": "error",
     "traceback": [
      "\u001b[1;31m---------------------------------------------------------------------------\u001b[0m",
      "\u001b[1;31mImportError\u001b[0m                               Traceback (most recent call last)",
      "\u001b[1;32m<ipython-input-42-55e7b36f5f5b>\u001b[0m in \u001b[0;36m<module>\u001b[1;34m\u001b[0m\n\u001b[1;32m----> 1\u001b[1;33m \u001b[1;32mfrom\u001b[0m \u001b[0mcnn_utils\u001b[0m \u001b[1;32mimport\u001b[0m \u001b[0mload_signs_dataset\u001b[0m\u001b[1;33m\u001b[0m\u001b[1;33m\u001b[0m\u001b[0m\n\u001b[0m\u001b[0;32m      2\u001b[0m \u001b[1;31m# Loading the data (signs)\u001b[0m\u001b[1;33m\u001b[0m\u001b[1;33m\u001b[0m\u001b[1;33m\u001b[0m\u001b[0m\n\u001b[0;32m      3\u001b[0m \u001b[0mX_train_orig\u001b[0m\u001b[1;33m,\u001b[0m \u001b[0mY_train_orig\u001b[0m\u001b[1;33m,\u001b[0m \u001b[0mX_test_orig\u001b[0m\u001b[1;33m,\u001b[0m \u001b[0mY_test_orig\u001b[0m\u001b[1;33m,\u001b[0m \u001b[0mclasses\u001b[0m \u001b[1;33m=\u001b[0m \u001b[0mload_signs_dataset\u001b[0m\u001b[1;33m(\u001b[0m\u001b[1;33m)\u001b[0m\u001b[1;33m\u001b[0m\u001b[1;33m\u001b[0m\u001b[0m\n",
      "\u001b[1;31mImportError\u001b[0m: cannot import name 'load_signs_dataset' from 'cnn_utils' (C:\\Users\\admin\\Desktop\\coursera-deep-learning-specialization-master\\C4 - Convolutional Neural Networks\\Week 1\\cnn_utils.py)"
     ]
    }
   ],
   "source": [
    "from cnn_utils import load_signs_dataset\n",
    "# Loading the data (signs)\n",
    "X_train_orig, Y_train_orig, X_test_orig, Y_test_orig, classes = load_signs_dataset()"
   ]
  },
  {
   "cell_type": "markdown",
   "metadata": {},
   "source": [
    "<img src=\"images/SIGNS.png\" style=\"width:800px;height:300px;\">\n",
    "\n",
    "The next cell will show you an example of a labelled image in the dataset. Feel free to change the value of `index` below and re-run to see different examples. "
   ]
  },
  {
   "cell_type": "code",
   "execution_count": 11,
   "metadata": {},
   "outputs": [
    {
     "name": "stdout",
     "output_type": "stream",
     "text": [
      "y = 4\n"
     ]
    },
    {
     "data": {
      "image/png": "[encoded data removed]",
      "text/plain": [
       "<Figure size 432x288 with 1 Axes>"
      ]
     },
     "metadata": {
      "needs_background": "light"
     },
     "output_type": "display_data"
    }
   ],
   "source": [
    "# Example of an image from the dataset\n",
    "index = 9\n",
    "plt.imshow(X_train_orig[index])\n",
    "print (\"y = \" + str(np.squeeze(Y_train_orig[:, index])))"
   ]
  },
  {
   "cell_type": "markdown",
   "metadata": {},
   "source": [
    "<a name='4-2'></a>\n",
    "### 4.2 - Split the Data into Train/Test Sets\n",
    "\n",
    "In Course 2, you built a fully-connected network for this dataset. But since this is an image dataset, it is more natural to apply a ConvNet to it.\n",
    "\n",
    "To get started, let's examine the shapes of your data. "
   ]
  },
  {
   "cell_type": "code",
   "execution_count": 13,
   "metadata": {},
   "outputs": [
    {
     "name": "stdout",
     "output_type": "stream",
     "text": [
      "number of training examples = 1080\n",
      "number of test examples = 120\n",
      "X_train shape: (1080, 64, 64, 3)\n",
      "Y_train shape: (1080, 6)\n",
      "X_test shape: (120, 64, 64, 3)\n",
      "Y_test shape: (120, 6)\n"
     ]
    }
   ],
   "source": [
    "X_train = X_train_orig/255.\n",
    "X_test = X_test_orig/255.\n",
    "Y_train = convert_to_one_hot(Y_train_orig, 6).T\n",
    "Y_test = convert_to_one_hot(Y_test_orig, 6).T\n",
    "print (\"number of training examples = \" + str(X_train.shape[0]))\n",
    "print (\"number of test examples = \" + str(X_test.shape[0]))\n",
    "print (\"X_train shape: \" + str(X_train.shape))\n",
    "print (\"Y_train shape: \" + str(Y_train.shape))\n",
    "print (\"X_test shape: \" + str(X_test.shape))\n",
    "print (\"Y_test shape: \" + str(Y_test.shape))"
   ]
  },
  {
   "cell_type": "markdown",
   "metadata": {},
   "source": [
    "<a name='4-3'></a>\n",
    "### 4.3 - Forward Propagation\n",
    "\n",
    "In TensorFlow, there are built-in functions that implement the convolution steps for you. By now, you should be familiar with how TensorFlow builds computational graphs. In the [Functional API](https://www.tensorflow.org/guide/keras/functional), you create a graph of layers. This is what allows such great flexibility.\n",
    "\n",
    "However, the following model could also be defined using the Sequential API since the information flow is on a single line. But don't deviate. What we want you to learn is to use the functional API.\n",
    "\n",
    "Begin building your graph of layers by creating an input node that functions as a callable object:\n",
    "\n",
    "- **input_img = tf.keras.Input(shape=input_shape):** \n",
    "\n",
    "Then, create a new node in the graph of layers by calling a layer on the `input_img` object: \n",
    "\n",
    "- **tf.keras.layers.Conv2D(filters= ... , kernel_size= ... , padding='same')(input_img):** Read the full documentation on [Conv2D](https://www.tensorflow.org/api_docs/python/tf/keras/layers/Conv2D).\n",
    "\n",
    "- **tf.keras.layers.MaxPool2D(pool_size=(f, f), strides=(s, s), padding='same'):** `MaxPool2D()` downsamples your input using a window of size (f, f) and strides of size (s, s) to carry out max pooling over each window.  For max pooling, you usually operate on a single example at a time and a single channel at a time. Read the full documentation on [MaxPool2D](https://www.tensorflow.org/api_docs/python/tf/keras/layers/MaxPool2D).\n",
    "\n",
    "- **tf.keras.layers.ReLU():** computes the elementwise ReLU of Z (which can be any shape). You can read the full documentation on [ReLU](https://www.tensorflow.org/api_docs/python/tf/keras/layers/ReLU).\n",
    "\n",
    "- **tf.keras.layers.Flatten()**: given a tensor \"P\", this function takes each training (or test) example in the batch and flattens it into a 1D vector.  \n",
    "\n",
    "    * If a tensor P has the shape (batch_size,h,w,c), it returns a flattened tensor with shape (batch_size, k), where $k=h \\times w \\times c$.  \"k\" equals the product of all the dimension sizes other than the first dimension.\n",
    "    \n",
    "    * For example, given a tensor with dimensions [100, 2, 3, 4], it flattens the tensor to be of shape [100, 24], where 24 = 2 * 3 * 4.  You can read the full documentation on [Flatten](https://www.tensorflow.org/api_docs/python/tf/keras/layers/Flatten).\n",
    "\n",
    "- **tf.keras.layers.Dense(units= ... , activation='softmax')(F):** given the flattened input F, it returns the output computed using a fully connected layer. You can read the full documentation on [Dense](https://www.tensorflow.org/api_docs/python/tf/keras/layers/Dense).\n",
    "\n",
    "In the last function above (`tf.keras.layers.Dense()`), the fully connected layer automatically initializes weights in the graph and keeps on training them as you train the model. Hence, you did not need to initialize those weights when initializing the parameters.\n",
    "\n",
    "Lastly, before creating the model, you'll need to define the output using the last of the function's compositions (in this example, a Dense layer): \n",
    "\n",
    "- **outputs = tf.keras.layers.Dense(units=6, activation='softmax')(F)**\n",
    "\n",
    "\n",
    "#### Window, kernel, filter, pool\n",
    "\n",
    "The words \"kernel\" and \"filter\" are used to refer to the same thing. The word \"filter\" accounts for the amount of \"kernels\" that will be used in a single convolution layer. \"Pool\" is the name of the operation that takes the max or average value of the kernels. \n",
    "\n",
    "This is why the parameter `pool_size` refers to `kernel_size`, and you use `(f,f)` to refer to the filter size. \n",
    "\n",
    "Pool size and kernel size refer to the same thing in different objects - They refer to the shape of the window where the operation takes place. "
   ]
  },
  {
   "cell_type": "markdown",
   "metadata": {},
   "source": [
    "<a name='ex-2'></a>\n",
    "### Exercise 2 - convolutional_model\n",
    "\n",
    "Implement the `convolutional_model` function below to build the following model: `CONV2D -> RELU -> MAXPOOL -> CONV2D -> RELU -> MAXPOOL -> FLATTEN -> DENSE`. Use the functions above! \n",
    "\n",
    "Also, plug in the following parameters for all the steps:\n",
    "\n",
    " - [Conv2D](https://www.tensorflow.org/api_docs/python/tf/keras/layers/Conv2D): Use 8 4 by 4 filters, stride 1, padding is \"SAME\"\n",
    " - [ReLU](https://www.tensorflow.org/api_docs/python/tf/keras/layers/ReLU)\n",
    " - [MaxPool2D](https://www.tensorflow.org/api_docs/python/tf/keras/layers/MaxPool2D): Use an 8 by 8 filter size and an 8 by 8 stride, padding is \"SAME\"\n",
    " - **Conv2D**: Use 16 2 by 2 filters, stride 1, padding is \"SAME\"\n",
    " - **ReLU**\n",
    " - **MaxPool2D**: Use a 4 by 4 filter size and a 4 by 4 stride, padding is \"SAME\"\n",
    " - [Flatten](https://www.tensorflow.org/api_docs/python/tf/keras/layers/Flatten) the previous output.\n",
    " - Fully-connected ([Dense](https://www.tensorflow.org/api_docs/python/tf/keras/layers/Dense)) layer: Apply a fully connected layer with 6 neurons and a softmax activation. "
   ]
  },
  {
   "cell_type": "code",
   "execution_count": 20,
   "metadata": {
    "deletable": false,
    "nbgrader": {
     "cell_type": "code",
     "checksum": "f58643806aa8380c96225fc8b4c5e7aa",
     "grade": false,
     "grade_id": "cell-dac51744a9e03f51",
     "locked": false,
     "schema_version": 3,
     "solution": true,
     "task": false
    }
   },
   "outputs": [],
   "source": [
    "# GRADED FUNCTION: convolutional_model\n",
    "\n",
    "def convolutional_model(input_shape):\n",
    "    \"\"\"\n",
    "    Implements the forward propagation for the model:\n",
    "    CONV2D -> RELU -> MAXPOOL -> CONV2D -> RELU -> MAXPOOL -> FLATTEN -> DENSE\n",
    "    \n",
    "    Note that for simplicity and grading purposes, you'll hard-code some values\n",
    "    such as the stride and kernel (filter) sizes. \n",
    "    Normally, functions should take these values as function parameters.\n",
    "    \n",
    "    Arguments:\n",
    "    input_img -- input dataset, of shape (input_shape)\n",
    "\n",
    "    Returns:\n",
    "    model -- TF Keras model (object containing the information for the entire training process) \n",
    "    \"\"\"\n",
    "\n",
    "    input_img = tf.keras.Input(shape=input_shape)\n",
    "    ## CONV2D: 8 filters 4x4, stride of 1, padding 'SAME'\n",
    "    Z1 = tfl.Conv2D(8, (4,4), strides = 1, padding = 'SAME')(input_img)\n",
    "    ## RELU\n",
    "    A1 = tfl.ReLU()(Z1)\n",
    "    ## MAXPOOL: window 8x8, stride 8, padding 'SAME'\n",
    "    P1 = tfl.MaxPool2D(pool_size=(8, 8), strides = 8, padding='SAME')(A1)\n",
    "    ## CONV2D: 16 filters 2x2, stride 1, padding 'SAME'\n",
    "    Z2 = tfl.Conv2D(16, (2,2), strides = 1, padding = 'SAME')(P1)\n",
    "    ## RELU\n",
    "    A2 = tfl.ReLU()(Z2)\n",
    "    ## MAXPOOL: window 4x4, stride 4, padding 'SAME'\n",
    "    P2 = tfl.MaxPool2D(pool_size=(4, 4), strides = 4, padding='SAME')(A2)\n",
    "    ## FLATTEN\n",
    "    F = tfl.Flatten()(P2)\n",
    "    ## Dense layer\n",
    "    ## 6 neurons in output layer. Hint: one of the arguments should be \"activation='softmax'\" \n",
    "    outputs = tfl.Dense(units=6, activation='softmax')(F)\n",
    "    # YOUR CODE STARTS HERE\n",
    "    \n",
    "    \n",
    "    # YOUR CODE ENDS HERE\n",
    "    model = tf.keras.Model(inputs=input_img, outputs=outputs)\n",
    "    return model"
   ]
  },
  {
   "cell_type": "code",
   "execution_count": 21,
   "metadata": {
    "deletable": false,
    "editable": false,
    "nbgrader": {
     "cell_type": "code",
     "checksum": "483d626949930a0b0ef20997e7c6ba72",
     "grade": true,
     "grade_id": "cell-45d22e92042174c9",
     "locked": true,
     "points": 10,
     "schema_version": 3,
     "solution": false,
     "task": false
    }
   },
   "outputs": [
    {
     "name": "stdout",
     "output_type": "stream",
     "text": [
      "Model: \"functional_3\"\n",
      "_________________________________________________________________\n",
      "Layer (type)                 Output Shape              Param #   \n",
      "=================================================================\n",
      "input_5 (InputLayer)         [(None, 64, 64, 3)]       0         \n",
      "_________________________________________________________________\n",
      "conv2d_6 (Conv2D)            (None, 64, 64, 8)         392       \n",
      "_________________________________________________________________\n",
      "re_lu_6 (ReLU)               (None, 64, 64, 8)         0         \n",
      "_________________________________________________________________\n",
      "max_pooling2d_5 (MaxPooling2 (None, 8, 8, 8)           0         \n",
      "_________________________________________________________________\n",
      "conv2d_7 (Conv2D)            (None, 8, 8, 16)          528       \n",
      "_________________________________________________________________\n",
      "re_lu_7 (ReLU)               (None, 8, 8, 16)          0         \n",
      "_________________________________________________________________\n",
      "max_pooling2d_6 (MaxPooling2 (None, 2, 2, 16)          0         \n",
      "_________________________________________________________________\n",
      "flatten_3 (Flatten)          (None, 64)                0         \n",
      "_________________________________________________________________\n",
      "dense_2 (Dense)              (None, 6)                 390       \n",
      "=================================================================\n",
      "Total params: 1,310\n",
      "Trainable params: 1,310\n",
      "Non-trainable params: 0\n",
      "_________________________________________________________________\n",
      "\u001b[32mAll tests passed!\u001b[0m\n"
     ]
    }
   ],
   "source": [
    "conv_model = convolutional_model((64, 64, 3))\n",
    "conv_model.compile(optimizer='adam',\n",
    "                  loss='categorical_crossentropy',\n",
    "                  metrics=['accuracy'])\n",
    "conv_model.summary()\n",
    "    \n",
    "output = [['InputLayer', [(None, 64, 64, 3)], 0],\n",
    "        ['Conv2D', (None, 64, 64, 8), 392, 'same', 'linear', 'GlorotUniform'],\n",
    "        ['ReLU', (None, 64, 64, 8), 0],\n",
    "        ['MaxPooling2D', (None, 8, 8, 8), 0, (8, 8), (8, 8), 'same'],\n",
    "        ['Conv2D', (None, 8, 8, 16), 528, 'same', 'linear', 'GlorotUniform'],\n",
    "        ['ReLU', (None, 8, 8, 16), 0],\n",
    "        ['MaxPooling2D', (None, 2, 2, 16), 0, (4, 4), (4, 4), 'same'],\n",
    "        ['Flatten', (None, 64), 0],\n",
    "        ['Dense', (None, 6), 390, 'softmax']]\n",
    "    \n",
    "comparator(summary(conv_model), output)"
   ]
  },
  {
   "cell_type": "markdown",
   "metadata": {},
   "source": [
    "Both the Sequential and Functional APIs return a TF Keras model object. The only difference is how inputs are handled inside the object model! "
   ]
  },
  {
   "cell_type": "markdown",
   "metadata": {},
   "source": [
    "<a name='4-4'></a>\n",
    "### 4.4 - Train the Model"
   ]
  },
  {
   "cell_type": "code",
   "execution_count": 22,
   "metadata": {},
   "outputs": [
    {
     "name": "stdout",
     "output_type": "stream",
     "text": [
      "Epoch 1/100\n",
      "17/17 [==============================] - 2s 105ms/step - loss: 1.7994 - accuracy: 0.1787 - val_loss: 1.7932 - val_accuracy: 0.1917\n",
      "Epoch 2/100\n",
      "17/17 [==============================] - 2s 95ms/step - loss: 1.7883 - accuracy: 0.2324 - val_loss: 1.7879 - val_accuracy: 0.2167\n",
      "Epoch 3/100\n",
      "17/17 [==============================] - 2s 95ms/step - loss: 1.7829 - accuracy: 0.2537 - val_loss: 1.7826 - val_accuracy: 0.2417\n",
      "Epoch 4/100\n",
      "17/17 [==============================] - 2s 100ms/step - loss: 1.7783 - accuracy: 0.2639 - val_loss: 1.7771 - val_accuracy: 0.2417\n",
      "Epoch 5/100\n",
      "17/17 [==============================] - 2s 100ms/step - loss: 1.7714 - accuracy: 0.3139 - val_loss: 1.7715 - val_accuracy: 0.2750\n",
      "Epoch 6/100\n",
      "17/17 [==============================] - 2s 100ms/step - loss: 1.7651 - accuracy: 0.3102 - val_loss: 1.7643 - val_accuracy: 0.3083\n",
      "Epoch 7/100\n",
      "17/17 [==============================] - 2s 105ms/step - loss: 1.7547 - accuracy: 0.3287 - val_loss: 1.7540 - val_accuracy: 0.3250\n",
      "Epoch 8/100\n",
      "17/17 [==============================] - 2s 100ms/step - loss: 1.7421 - accuracy: 0.3306 - val_loss: 1.7417 - val_accuracy: 0.3667\n",
      "Epoch 9/100\n",
      "17/17 [==============================] - 2s 100ms/step - loss: 1.7241 - accuracy: 0.3648 - val_loss: 1.7227 - val_accuracy: 0.4083\n",
      "Epoch 10/100\n",
      "17/17 [==============================] - 2s 100ms/step - loss: 1.6989 - accuracy: 0.3880 - val_loss: 1.6947 - val_accuracy: 0.3833\n",
      "Epoch 11/100\n",
      "17/17 [==============================] - 2s 100ms/step - loss: 1.6649 - accuracy: 0.4241 - val_loss: 1.6638 - val_accuracy: 0.4083\n",
      "Epoch 12/100\n",
      "17/17 [==============================] - 2s 100ms/step - loss: 1.6237 - accuracy: 0.4565 - val_loss: 1.6286 - val_accuracy: 0.4250\n",
      "Epoch 13/100\n",
      "17/17 [==============================] - 2s 100ms/step - loss: 1.5783 - accuracy: 0.4806 - val_loss: 1.5917 - val_accuracy: 0.4083\n",
      "Epoch 14/100\n",
      "17/17 [==============================] - 2s 100ms/step - loss: 1.5295 - accuracy: 0.5074 - val_loss: 1.5525 - val_accuracy: 0.4333\n",
      "Epoch 15/100\n",
      "17/17 [==============================] - 2s 96ms/step - loss: 1.4795 - accuracy: 0.5269 - val_loss: 1.5128 - val_accuracy: 0.4417\n",
      "Epoch 16/100\n",
      "17/17 [==============================] - 2s 100ms/step - loss: 1.4294 - accuracy: 0.5380 - val_loss: 1.4702 - val_accuracy: 0.4667\n",
      "Epoch 17/100\n",
      "17/17 [==============================] - 2s 100ms/step - loss: 1.3800 - accuracy: 0.5537 - val_loss: 1.4310 - val_accuracy: 0.4750\n",
      "Epoch 18/100\n",
      "17/17 [==============================] - 2s 100ms/step - loss: 1.3338 - accuracy: 0.5602 - val_loss: 1.3938 - val_accuracy: 0.4917\n",
      "Epoch 19/100\n",
      "17/17 [==============================] - 2s 94ms/step - loss: 1.2907 - accuracy: 0.5676 - val_loss: 1.3491 - val_accuracy: 0.4833\n",
      "Epoch 20/100\n",
      "17/17 [==============================] - 2s 100ms/step - loss: 1.2503 - accuracy: 0.5778 - val_loss: 1.3116 - val_accuracy: 0.4833\n",
      "Epoch 21/100\n",
      "17/17 [==============================] - 2s 100ms/step - loss: 1.2126 - accuracy: 0.5954 - val_loss: 1.2794 - val_accuracy: 0.5083\n",
      "Epoch 22/100\n",
      "17/17 [==============================] - 2s 100ms/step - loss: 1.1788 - accuracy: 0.6093 - val_loss: 1.2462 - val_accuracy: 0.5333\n",
      "Epoch 23/100\n",
      "17/17 [==============================] - 2s 100ms/step - loss: 1.1458 - accuracy: 0.6231 - val_loss: 1.2116 - val_accuracy: 0.5500\n",
      "Epoch 24/100\n",
      "17/17 [==============================] - 2s 100ms/step - loss: 1.1131 - accuracy: 0.6343 - val_loss: 1.1775 - val_accuracy: 0.5417\n",
      "Epoch 25/100\n",
      "17/17 [==============================] - 2s 105ms/step - loss: 1.0820 - accuracy: 0.6528 - val_loss: 1.1472 - val_accuracy: 0.5667\n",
      "Epoch 26/100\n",
      "17/17 [==============================] - 2s 100ms/step - loss: 1.0530 - accuracy: 0.6722 - val_loss: 1.1175 - val_accuracy: 0.5833\n",
      "Epoch 27/100\n",
      "17/17 [==============================] - 2s 100ms/step - loss: 1.0263 - accuracy: 0.6852 - val_loss: 1.0885 - val_accuracy: 0.5917\n",
      "Epoch 28/100\n",
      "17/17 [==============================] - 2s 100ms/step - loss: 1.0007 - accuracy: 0.6972 - val_loss: 1.0590 - val_accuracy: 0.5917\n",
      "Epoch 29/100\n",
      "17/17 [==============================] - 2s 100ms/step - loss: 0.9761 - accuracy: 0.6963 - val_loss: 1.0345 - val_accuracy: 0.5833\n",
      "Epoch 30/100\n",
      "17/17 [==============================] - 2s 101ms/step - loss: 0.9524 - accuracy: 0.7056 - val_loss: 1.0075 - val_accuracy: 0.6250\n",
      "Epoch 31/100\n",
      "17/17 [==============================] - 2s 100ms/step - loss: 0.9302 - accuracy: 0.7120 - val_loss: 0.9829 - val_accuracy: 0.6417\n",
      "Epoch 32/100\n",
      "17/17 [==============================] - 2s 100ms/step - loss: 0.9092 - accuracy: 0.7167 - val_loss: 0.9590 - val_accuracy: 0.6667\n",
      "Epoch 33/100\n",
      "17/17 [==============================] - 2s 100ms/step - loss: 0.8891 - accuracy: 0.7241 - val_loss: 0.9370 - val_accuracy: 0.6917\n",
      "Epoch 34/100\n",
      "17/17 [==============================] - 2s 100ms/step - loss: 0.8695 - accuracy: 0.7315 - val_loss: 0.9155 - val_accuracy: 0.7000\n",
      "Epoch 35/100\n",
      "17/17 [==============================] - 2s 100ms/step - loss: 0.8508 - accuracy: 0.7407 - val_loss: 0.8951 - val_accuracy: 0.7167\n",
      "Epoch 36/100\n",
      "17/17 [==============================] - 2s 101ms/step - loss: 0.8331 - accuracy: 0.7491 - val_loss: 0.8755 - val_accuracy: 0.7250\n",
      "Epoch 37/100\n",
      "17/17 [==============================] - 2s 106ms/step - loss: 0.8162 - accuracy: 0.7537 - val_loss: 0.8568 - val_accuracy: 0.7250\n",
      "Epoch 38/100\n",
      "17/17 [==============================] - 2s 100ms/step - loss: 0.8004 - accuracy: 0.7556 - val_loss: 0.8383 - val_accuracy: 0.7250\n",
      "Epoch 39/100\n",
      "17/17 [==============================] - 2s 105ms/step - loss: 0.7847 - accuracy: 0.7630 - val_loss: 0.8222 - val_accuracy: 0.7250\n",
      "Epoch 40/100\n",
      "17/17 [==============================] - 2s 100ms/step - loss: 0.7693 - accuracy: 0.7676 - val_loss: 0.8056 - val_accuracy: 0.7333\n",
      "Epoch 41/100\n",
      "17/17 [==============================] - 2s 100ms/step - loss: 0.7551 - accuracy: 0.7722 - val_loss: 0.7904 - val_accuracy: 0.7417\n",
      "Epoch 42/100\n",
      "17/17 [==============================] - 2s 101ms/step - loss: 0.7410 - accuracy: 0.7806 - val_loss: 0.7753 - val_accuracy: 0.7500\n",
      "Epoch 43/100\n",
      "17/17 [==============================] - 2s 100ms/step - loss: 0.7277 - accuracy: 0.7852 - val_loss: 0.7620 - val_accuracy: 0.7500\n",
      "Epoch 44/100\n",
      "17/17 [==============================] - 2s 100ms/step - loss: 0.7147 - accuracy: 0.7870 - val_loss: 0.7485 - val_accuracy: 0.7500\n",
      "Epoch 45/100\n",
      "17/17 [==============================] - 2s 100ms/step - loss: 0.7021 - accuracy: 0.7907 - val_loss: 0.7364 - val_accuracy: 0.7500\n",
      "Epoch 46/100\n",
      "17/17 [==============================] - 2s 100ms/step - loss: 0.6898 - accuracy: 0.7954 - val_loss: 0.7247 - val_accuracy: 0.7583\n",
      "Epoch 47/100\n",
      "17/17 [==============================] - 2s 100ms/step - loss: 0.6783 - accuracy: 0.7972 - val_loss: 0.7136 - val_accuracy: 0.7750\n",
      "Epoch 48/100\n",
      "17/17 [==============================] - 2s 100ms/step - loss: 0.6672 - accuracy: 0.8000 - val_loss: 0.7024 - val_accuracy: 0.7917\n",
      "Epoch 49/100\n",
      "17/17 [==============================] - 2s 100ms/step - loss: 0.6565 - accuracy: 0.8046 - val_loss: 0.6916 - val_accuracy: 0.7917\n",
      "Epoch 50/100\n",
      "17/17 [==============================] - 2s 100ms/step - loss: 0.6463 - accuracy: 0.8056 - val_loss: 0.6821 - val_accuracy: 0.8000\n",
      "Epoch 51/100\n",
      "17/17 [==============================] - 2s 100ms/step - loss: 0.6355 - accuracy: 0.8102 - val_loss: 0.6735 - val_accuracy: 0.7833\n",
      "Epoch 52/100\n",
      "17/17 [==============================] - 2s 106ms/step - loss: 0.6263 - accuracy: 0.8111 - val_loss: 0.6637 - val_accuracy: 0.7917\n",
      "Epoch 53/100\n",
      "17/17 [==============================] - 2s 100ms/step - loss: 0.6175 - accuracy: 0.8139 - val_loss: 0.6554 - val_accuracy: 0.7917\n",
      "Epoch 54/100\n",
      "17/17 [==============================] - 2s 100ms/step - loss: 0.6060 - accuracy: 0.8167 - val_loss: 0.6468 - val_accuracy: 0.7917\n",
      "Epoch 55/100\n",
      "17/17 [==============================] - 2s 100ms/step - loss: 0.5948 - accuracy: 0.8222 - val_loss: 0.6381 - val_accuracy: 0.7833\n",
      "Epoch 56/100\n",
      "17/17 [==============================] - 2s 101ms/step - loss: 0.5829 - accuracy: 0.8250 - val_loss: 0.6293 - val_accuracy: 0.8000\n",
      "Epoch 57/100\n",
      "17/17 [==============================] - 2s 100ms/step - loss: 0.5725 - accuracy: 0.8287 - val_loss: 0.6203 - val_accuracy: 0.8083\n"
     ]
    },
    {
     "name": "stdout",
     "output_type": "stream",
     "text": [
      "Epoch 58/100\n",
      "17/17 [==============================] - 2s 105ms/step - loss: 0.5627 - accuracy: 0.8296 - val_loss: 0.6119 - val_accuracy: 0.8083\n",
      "Epoch 59/100\n",
      "17/17 [==============================] - 2s 100ms/step - loss: 0.5536 - accuracy: 0.8333 - val_loss: 0.6038 - val_accuracy: 0.8083\n",
      "Epoch 60/100\n",
      "17/17 [==============================] - 2s 100ms/step - loss: 0.5450 - accuracy: 0.8352 - val_loss: 0.5958 - val_accuracy: 0.8083\n",
      "Epoch 61/100\n",
      "17/17 [==============================] - 2s 100ms/step - loss: 0.5366 - accuracy: 0.8380 - val_loss: 0.5885 - val_accuracy: 0.8083\n",
      "Epoch 62/100\n",
      "17/17 [==============================] - 2s 101ms/step - loss: 0.5281 - accuracy: 0.8389 - val_loss: 0.5810 - val_accuracy: 0.8083\n",
      "Epoch 63/100\n",
      "17/17 [==============================] - 2s 100ms/step - loss: 0.5204 - accuracy: 0.8426 - val_loss: 0.5743 - val_accuracy: 0.8083\n",
      "Epoch 64/100\n",
      "17/17 [==============================] - 2s 101ms/step - loss: 0.5126 - accuracy: 0.8454 - val_loss: 0.5673 - val_accuracy: 0.8083\n",
      "Epoch 65/100\n",
      "17/17 [==============================] - 2s 100ms/step - loss: 0.5055 - accuracy: 0.8472 - val_loss: 0.5617 - val_accuracy: 0.8083\n",
      "Epoch 66/100\n",
      "17/17 [==============================] - 2s 100ms/step - loss: 0.4983 - accuracy: 0.8519 - val_loss: 0.5557 - val_accuracy: 0.8167\n",
      "Epoch 67/100\n",
      "17/17 [==============================] - 2s 105ms/step - loss: 0.4914 - accuracy: 0.8565 - val_loss: 0.5496 - val_accuracy: 0.8167\n",
      "Epoch 68/100\n",
      "17/17 [==============================] - 2s 100ms/step - loss: 0.4847 - accuracy: 0.8565 - val_loss: 0.5445 - val_accuracy: 0.8000\n",
      "Epoch 69/100\n",
      "17/17 [==============================] - 2s 100ms/step - loss: 0.4782 - accuracy: 0.8648 - val_loss: 0.5400 - val_accuracy: 0.8083\n",
      "Epoch 70/100\n",
      "17/17 [==============================] - 2s 101ms/step - loss: 0.4719 - accuracy: 0.8648 - val_loss: 0.5346 - val_accuracy: 0.8083\n",
      "Epoch 71/100\n",
      "17/17 [==============================] - 2s 100ms/step - loss: 0.4657 - accuracy: 0.8657 - val_loss: 0.5300 - val_accuracy: 0.8083\n",
      "Epoch 72/100\n",
      "17/17 [==============================] - 2s 100ms/step - loss: 0.4597 - accuracy: 0.8676 - val_loss: 0.5252 - val_accuracy: 0.8250\n",
      "Epoch 73/100\n",
      "17/17 [==============================] - 2s 99ms/step - loss: 0.4537 - accuracy: 0.8713 - val_loss: 0.5208 - val_accuracy: 0.8250\n",
      "Epoch 74/100\n",
      "17/17 [==============================] - 2s 99ms/step - loss: 0.4482 - accuracy: 0.8694 - val_loss: 0.5166 - val_accuracy: 0.8333\n",
      "Epoch 75/100\n",
      "17/17 [==============================] - 2s 100ms/step - loss: 0.4426 - accuracy: 0.8713 - val_loss: 0.5126 - val_accuracy: 0.8250\n",
      "Epoch 76/100\n",
      "17/17 [==============================] - 2s 100ms/step - loss: 0.4373 - accuracy: 0.8722 - val_loss: 0.5090 - val_accuracy: 0.8333\n",
      "Epoch 77/100\n",
      "17/17 [==============================] - 2s 100ms/step - loss: 0.4319 - accuracy: 0.8731 - val_loss: 0.5055 - val_accuracy: 0.8333\n",
      "Epoch 78/100\n",
      "17/17 [==============================] - 2s 100ms/step - loss: 0.4267 - accuracy: 0.8750 - val_loss: 0.5025 - val_accuracy: 0.8333\n",
      "Epoch 79/100\n",
      "17/17 [==============================] - 2s 100ms/step - loss: 0.4215 - accuracy: 0.8759 - val_loss: 0.4991 - val_accuracy: 0.8417\n",
      "Epoch 80/100\n",
      "17/17 [==============================] - 2s 100ms/step - loss: 0.4167 - accuracy: 0.8778 - val_loss: 0.4963 - val_accuracy: 0.8417\n",
      "Epoch 81/100\n",
      "17/17 [==============================] - 2s 105ms/step - loss: 0.4119 - accuracy: 0.8824 - val_loss: 0.4933 - val_accuracy: 0.8417\n",
      "Epoch 82/100\n",
      "17/17 [==============================] - 2s 100ms/step - loss: 0.4071 - accuracy: 0.8861 - val_loss: 0.4897 - val_accuracy: 0.8500\n",
      "Epoch 83/100\n",
      "17/17 [==============================] - 2s 100ms/step - loss: 0.4024 - accuracy: 0.8861 - val_loss: 0.4863 - val_accuracy: 0.8500\n",
      "Epoch 84/100\n",
      "17/17 [==============================] - 2s 100ms/step - loss: 0.3978 - accuracy: 0.8861 - val_loss: 0.4830 - val_accuracy: 0.8500\n",
      "Epoch 85/100\n",
      "17/17 [==============================] - 2s 105ms/step - loss: 0.3931 - accuracy: 0.8880 - val_loss: 0.4802 - val_accuracy: 0.8500\n",
      "Epoch 86/100\n",
      "17/17 [==============================] - 2s 99ms/step - loss: 0.3887 - accuracy: 0.8880 - val_loss: 0.4773 - val_accuracy: 0.8500\n",
      "Epoch 87/100\n",
      "17/17 [==============================] - 2s 105ms/step - loss: 0.3843 - accuracy: 0.8898 - val_loss: 0.4742 - val_accuracy: 0.8500\n",
      "Epoch 88/100\n",
      "17/17 [==============================] - 2s 100ms/step - loss: 0.3800 - accuracy: 0.8898 - val_loss: 0.4714 - val_accuracy: 0.8500\n",
      "Epoch 89/100\n",
      "17/17 [==============================] - 2s 100ms/step - loss: 0.3758 - accuracy: 0.8889 - val_loss: 0.4694 - val_accuracy: 0.8500\n",
      "Epoch 90/100\n",
      "17/17 [==============================] - 2s 100ms/step - loss: 0.3715 - accuracy: 0.8926 - val_loss: 0.4664 - val_accuracy: 0.8500\n",
      "Epoch 91/100\n",
      "17/17 [==============================] - 2s 100ms/step - loss: 0.3674 - accuracy: 0.8926 - val_loss: 0.4648 - val_accuracy: 0.8500\n",
      "Epoch 92/100\n",
      "17/17 [==============================] - 2s 100ms/step - loss: 0.3633 - accuracy: 0.8926 - val_loss: 0.4627 - val_accuracy: 0.8500\n",
      "Epoch 93/100\n",
      "17/17 [==============================] - 2s 100ms/step - loss: 0.3593 - accuracy: 0.8926 - val_loss: 0.4608 - val_accuracy: 0.8500\n",
      "Epoch 94/100\n",
      "17/17 [==============================] - 2s 100ms/step - loss: 0.3552 - accuracy: 0.8954 - val_loss: 0.4593 - val_accuracy: 0.8500\n",
      "Epoch 95/100\n",
      "17/17 [==============================] - 2s 100ms/step - loss: 0.3511 - accuracy: 0.8963 - val_loss: 0.4581 - val_accuracy: 0.8500\n",
      "Epoch 96/100\n",
      "17/17 [==============================] - 2s 99ms/step - loss: 0.3470 - accuracy: 0.8981 - val_loss: 0.4560 - val_accuracy: 0.8500\n",
      "Epoch 97/100\n",
      "17/17 [==============================] - 2s 100ms/step - loss: 0.3429 - accuracy: 0.9000 - val_loss: 0.4550 - val_accuracy: 0.8500\n",
      "Epoch 98/100\n",
      "17/17 [==============================] - 2s 100ms/step - loss: 0.3390 - accuracy: 0.9019 - val_loss: 0.4526 - val_accuracy: 0.8500\n",
      "Epoch 99/100\n",
      "17/17 [==============================] - 2s 100ms/step - loss: 0.3351 - accuracy: 0.9028 - val_loss: 0.4493 - val_accuracy: 0.8500\n",
      "Epoch 100/100\n",
      "17/17 [==============================] - 2s 100ms/step - loss: 0.3315 - accuracy: 0.9046 - val_loss: 0.4471 - val_accuracy: 0.8500\n"
     ]
    }
   ],
   "source": [
    "train_dataset = tf.data.Dataset.from_tensor_slices((X_train, Y_train)).batch(64)\n",
    "test_dataset = tf.data.Dataset.from_tensor_slices((X_test, Y_test)).batch(64)\n",
    "history = conv_model.fit(train_dataset, epochs=100, validation_data=test_dataset)"
   ]
  },
  {
   "cell_type": "markdown",
   "metadata": {},
   "source": [
    "<a name='5'></a>\n",
    "## 5 - History Object \n",
    "\n",
    "The history object is an output of the `.fit()` operation, and provides a record of all the loss and metric values in memory. It's stored as a dictionary that you can retrieve at `history.history`: "
   ]
  },
  {
   "cell_type": "code",
   "execution_count": 23,
   "metadata": {},
   "outputs": [
    {
     "data": {
      "text/plain": [
       "{'loss': [1.7993860244750977,\n",
       "  1.7883057594299316,\n",
       "  1.7828869819641113,\n",
       "  1.778251051902771,\n",
       "  1.771356463432312,\n",
       "  1.7651257514953613,\n",
       "  1.754664421081543,\n",
       "  1.7420899868011475,\n",
       "  1.724145770072937,\n",
       "  1.6988732814788818,\n",
       "  1.6649471521377563,\n",
       "  1.6237348318099976,\n",
       "  1.5782979726791382,\n",
       "  1.5294642448425293,\n",
       "  1.4794716835021973,\n",
       "  1.4294124841690063,\n",
       "  1.3800156116485596,\n",
       "  1.3338470458984375,\n",
       "  1.290702223777771,\n",
       "  1.250343680381775,\n",
       "  1.2125622034072876,\n",
       "  1.1787818670272827,\n",
       "  1.1457747220993042,\n",
       "  1.1130543947219849,\n",
       "  1.0819863080978394,\n",
       "  1.052988886833191,\n",
       "  1.0263481140136719,\n",
       "  1.000653862953186,\n",
       "  0.9760752320289612,\n",
       "  0.952405571937561,\n",
       "  0.9301658272743225,\n",
       "  0.9091776013374329,\n",
       "  0.8890993595123291,\n",
       "  0.8695026636123657,\n",
       "  0.85076504945755,\n",
       "  0.8330579996109009,\n",
       "  0.8162275552749634,\n",
       "  0.8004105091094971,\n",
       "  0.7846723794937134,\n",
       "  0.7693262100219727,\n",
       "  0.7551350593566895,\n",
       "  0.7410007119178772,\n",
       "  0.7276725769042969,\n",
       "  0.7146568298339844,\n",
       "  0.702110767364502,\n",
       "  0.6898496150970459,\n",
       "  0.6782885193824768,\n",
       "  0.6672036647796631,\n",
       "  0.6564585566520691,\n",
       "  0.6462990045547485,\n",
       "  0.6355310082435608,\n",
       "  0.6263343691825867,\n",
       "  0.6174796223640442,\n",
       "  0.6059613227844238,\n",
       "  0.5948252081871033,\n",
       "  0.5829391479492188,\n",
       "  0.572542667388916,\n",
       "  0.5627385377883911,\n",
       "  0.5536119341850281,\n",
       "  0.5450011491775513,\n",
       "  0.5365613698959351,\n",
       "  0.5280729532241821,\n",
       "  0.5203998684883118,\n",
       "  0.5126322507858276,\n",
       "  0.5055407285690308,\n",
       "  0.49828994274139404,\n",
       "  0.49136990308761597,\n",
       "  0.4846596121788025,\n",
       "  0.4781631529331207,\n",
       "  0.47191810607910156,\n",
       "  0.46574684977531433,\n",
       "  0.4596625864505768,\n",
       "  0.45374882221221924,\n",
       "  0.448245644569397,\n",
       "  0.44261297583580017,\n",
       "  0.4373237192630768,\n",
       "  0.43185630440711975,\n",
       "  0.426681250333786,\n",
       "  0.42154666781425476,\n",
       "  0.4167023301124573,\n",
       "  0.41187480092048645,\n",
       "  0.407138466835022,\n",
       "  0.4023629426956177,\n",
       "  0.39782485365867615,\n",
       "  0.39311516284942627,\n",
       "  0.3886951804161072,\n",
       "  0.38430410623550415,\n",
       "  0.38003313541412354,\n",
       "  0.3758072555065155,\n",
       "  0.37148526310920715,\n",
       "  0.3674440383911133,\n",
       "  0.36333221197128296,\n",
       "  0.3592899739742279,\n",
       "  0.3551939129829407,\n",
       "  0.35107341408729553,\n",
       "  0.34696993231773376,\n",
       "  0.3429318964481354,\n",
       "  0.3389539420604706,\n",
       "  0.3351164162158966,\n",
       "  0.3314877450466156],\n",
       " 'accuracy': [0.17870371043682098,\n",
       "  0.23240740597248077,\n",
       "  0.2537037134170532,\n",
       "  0.2638888955116272,\n",
       "  0.31388887763023376,\n",
       "  0.31018519401550293,\n",
       "  0.32870370149612427,\n",
       "  0.3305555582046509,\n",
       "  0.364814817905426,\n",
       "  0.3879629671573639,\n",
       "  0.42407408356666565,\n",
       "  0.4564814865589142,\n",
       "  0.48055556416511536,\n",
       "  0.5074074268341064,\n",
       "  0.5268518328666687,\n",
       "  0.5379629731178284,\n",
       "  0.5537037253379822,\n",
       "  0.5601851940155029,\n",
       "  0.5675926208496094,\n",
       "  0.5777778029441833,\n",
       "  0.595370352268219,\n",
       "  0.6092592477798462,\n",
       "  0.6231481432914734,\n",
       "  0.6342592835426331,\n",
       "  0.6527777910232544,\n",
       "  0.6722221970558167,\n",
       "  0.6851851940155029,\n",
       "  0.6972222328186035,\n",
       "  0.6962962746620178,\n",
       "  0.7055555582046509,\n",
       "  0.7120370268821716,\n",
       "  0.7166666388511658,\n",
       "  0.7240740656852722,\n",
       "  0.7314814925193787,\n",
       "  0.7407407164573669,\n",
       "  0.7490741014480591,\n",
       "  0.7537037134170532,\n",
       "  0.7555555701255798,\n",
       "  0.7629629373550415,\n",
       "  0.7675926089286804,\n",
       "  0.7722222208976746,\n",
       "  0.7805555462837219,\n",
       "  0.7851851582527161,\n",
       "  0.7870370149612427,\n",
       "  0.7907407283782959,\n",
       "  0.7953703999519348,\n",
       "  0.7972221970558167,\n",
       "  0.800000011920929,\n",
       "  0.8046296238899231,\n",
       "  0.8055555820465088,\n",
       "  0.8101851940155029,\n",
       "  0.8111110925674438,\n",
       "  0.8138889074325562,\n",
       "  0.8166666626930237,\n",
       "  0.8222222328186035,\n",
       "  0.824999988079071,\n",
       "  0.8287037014961243,\n",
       "  0.8296296000480652,\n",
       "  0.8333333134651184,\n",
       "  0.835185170173645,\n",
       "  0.8379629850387573,\n",
       "  0.8388888835906982,\n",
       "  0.8425925970077515,\n",
       "  0.845370352268219,\n",
       "  0.8472222089767456,\n",
       "  0.8518518805503845,\n",
       "  0.8564814925193787,\n",
       "  0.8564814925193787,\n",
       "  0.864814817905426,\n",
       "  0.864814817905426,\n",
       "  0.8657407164573669,\n",
       "  0.8675925731658936,\n",
       "  0.8712962865829468,\n",
       "  0.8694444298744202,\n",
       "  0.8712962865829468,\n",
       "  0.8722222447395325,\n",
       "  0.8731481432914734,\n",
       "  0.875,\n",
       "  0.8759258985519409,\n",
       "  0.8777777552604675,\n",
       "  0.8824074268341064,\n",
       "  0.8861111402511597,\n",
       "  0.8861111402511597,\n",
       "  0.8861111402511597,\n",
       "  0.8879629373550415,\n",
       "  0.8879629373550415,\n",
       "  0.8898147940635681,\n",
       "  0.8898147940635681,\n",
       "  0.8888888955116272,\n",
       "  0.8925926089286804,\n",
       "  0.8925926089286804,\n",
       "  0.8925926089286804,\n",
       "  0.8925926089286804,\n",
       "  0.895370364189148,\n",
       "  0.8962963223457336,\n",
       "  0.8981481194496155,\n",
       "  0.8999999761581421,\n",
       "  0.9018518328666687,\n",
       "  0.9027777910232544,\n",
       "  0.904629647731781],\n",
       " 'val_loss': [1.793153166770935,\n",
       "  1.787912368774414,\n",
       "  1.7826133966445923,\n",
       "  1.7770971059799194,\n",
       "  1.7715339660644531,\n",
       "  1.7642854452133179,\n",
       "  1.7539846897125244,\n",
       "  1.7416977882385254,\n",
       "  1.722662329673767,\n",
       "  1.6947146654129028,\n",
       "  1.663759469985962,\n",
       "  1.6286125183105469,\n",
       "  1.5917025804519653,\n",
       "  1.552451252937317,\n",
       "  1.5128173828125,\n",
       "  1.4701863527297974,\n",
       "  1.431009292602539,\n",
       "  1.393795371055603,\n",
       "  1.3490872383117676,\n",
       "  1.3115696907043457,\n",
       "  1.2793899774551392,\n",
       "  1.2462295293807983,\n",
       "  1.211565375328064,\n",
       "  1.1774615049362183,\n",
       "  1.1471660137176514,\n",
       "  1.117457628250122,\n",
       "  1.088545322418213,\n",
       "  1.058965802192688,\n",
       "  1.0345269441604614,\n",
       "  1.0075113773345947,\n",
       "  0.982914388179779,\n",
       "  0.959006130695343,\n",
       "  0.9370075464248657,\n",
       "  0.9155282974243164,\n",
       "  0.8951103091239929,\n",
       "  0.8754521012306213,\n",
       "  0.8567860722541809,\n",
       "  0.8382831811904907,\n",
       "  0.8221905827522278,\n",
       "  0.8055740594863892,\n",
       "  0.7904348373413086,\n",
       "  0.775342583656311,\n",
       "  0.7620005011558533,\n",
       "  0.7485349774360657,\n",
       "  0.7364082336425781,\n",
       "  0.7247178554534912,\n",
       "  0.7136226892471313,\n",
       "  0.7023869156837463,\n",
       "  0.6915730834007263,\n",
       "  0.6820825934410095,\n",
       "  0.6734944581985474,\n",
       "  0.6637470126152039,\n",
       "  0.6553756594657898,\n",
       "  0.6467840671539307,\n",
       "  0.6381239295005798,\n",
       "  0.6293314695358276,\n",
       "  0.6203282475471497,\n",
       "  0.611908495426178,\n",
       "  0.6037906408309937,\n",
       "  0.5958213806152344,\n",
       "  0.588451623916626,\n",
       "  0.580963134765625,\n",
       "  0.5743325352668762,\n",
       "  0.5673450231552124,\n",
       "  0.5616737604141235,\n",
       "  0.5557183027267456,\n",
       "  0.5496477484703064,\n",
       "  0.5445326566696167,\n",
       "  0.5400183200836182,\n",
       "  0.5345566868782043,\n",
       "  0.5300321578979492,\n",
       "  0.525152862071991,\n",
       "  0.5207797288894653,\n",
       "  0.5165777802467346,\n",
       "  0.5125599503517151,\n",
       "  0.5090014934539795,\n",
       "  0.5054523944854736,\n",
       "  0.5025056600570679,\n",
       "  0.49910634756088257,\n",
       "  0.4962945282459259,\n",
       "  0.49332258105278015,\n",
       "  0.4897041320800781,\n",
       "  0.4862942099571228,\n",
       "  0.48298534750938416,\n",
       "  0.48020851612091064,\n",
       "  0.47726956009864807,\n",
       "  0.47418639063835144,\n",
       "  0.47139936685562134,\n",
       "  0.46936658024787903,\n",
       "  0.4664344787597656,\n",
       "  0.4647584855556488,\n",
       "  0.46266308426856995,\n",
       "  0.46079617738723755,\n",
       "  0.45927169919013977,\n",
       "  0.4580947160720825,\n",
       "  0.4560353457927704,\n",
       "  0.45501863956451416,\n",
       "  0.4525795578956604,\n",
       "  0.4493464231491089,\n",
       "  0.44708889722824097],\n",
       " 'val_accuracy': [0.19166666269302368,\n",
       "  0.21666666865348816,\n",
       "  0.24166665971279144,\n",
       "  0.24166665971279144,\n",
       "  0.2750000059604645,\n",
       "  0.3083333373069763,\n",
       "  0.32499998807907104,\n",
       "  0.36666667461395264,\n",
       "  0.40833333134651184,\n",
       "  0.38333332538604736,\n",
       "  0.40833333134651184,\n",
       "  0.42500001192092896,\n",
       "  0.40833333134651184,\n",
       "  0.4333333373069763,\n",
       "  0.4416666626930237,\n",
       "  0.46666666865348816,\n",
       "  0.4749999940395355,\n",
       "  0.49166667461395264,\n",
       "  0.4833333194255829,\n",
       "  0.4833333194255829,\n",
       "  0.5083333253860474,\n",
       "  0.5333333611488342,\n",
       "  0.550000011920929,\n",
       "  0.5416666865348816,\n",
       "  0.5666666626930237,\n",
       "  0.5833333134651184,\n",
       "  0.5916666388511658,\n",
       "  0.5916666388511658,\n",
       "  0.5833333134651184,\n",
       "  0.625,\n",
       "  0.6416666507720947,\n",
       "  0.6666666865348816,\n",
       "  0.6916666626930237,\n",
       "  0.699999988079071,\n",
       "  0.7166666388511658,\n",
       "  0.7250000238418579,\n",
       "  0.7250000238418579,\n",
       "  0.7250000238418579,\n",
       "  0.7250000238418579,\n",
       "  0.7333333492279053,\n",
       "  0.7416666746139526,\n",
       "  0.75,\n",
       "  0.75,\n",
       "  0.75,\n",
       "  0.75,\n",
       "  0.7583333253860474,\n",
       "  0.7749999761581421,\n",
       "  0.7916666865348816,\n",
       "  0.7916666865348816,\n",
       "  0.800000011920929,\n",
       "  0.7833333611488342,\n",
       "  0.7916666865348816,\n",
       "  0.7916666865348816,\n",
       "  0.7916666865348816,\n",
       "  0.7833333611488342,\n",
       "  0.800000011920929,\n",
       "  0.8083333373069763,\n",
       "  0.8083333373069763,\n",
       "  0.8083333373069763,\n",
       "  0.8083333373069763,\n",
       "  0.8083333373069763,\n",
       "  0.8083333373069763,\n",
       "  0.8083333373069763,\n",
       "  0.8083333373069763,\n",
       "  0.8083333373069763,\n",
       "  0.8166666626930237,\n",
       "  0.8166666626930237,\n",
       "  0.800000011920929,\n",
       "  0.8083333373069763,\n",
       "  0.8083333373069763,\n",
       "  0.8083333373069763,\n",
       "  0.824999988079071,\n",
       "  0.824999988079071,\n",
       "  0.8333333134651184,\n",
       "  0.824999988079071,\n",
       "  0.8333333134651184,\n",
       "  0.8333333134651184,\n",
       "  0.8333333134651184,\n",
       "  0.8416666388511658,\n",
       "  0.8416666388511658,\n",
       "  0.8416666388511658,\n",
       "  0.8500000238418579,\n",
       "  0.8500000238418579,\n",
       "  0.8500000238418579,\n",
       "  0.8500000238418579,\n",
       "  0.8500000238418579,\n",
       "  0.8500000238418579,\n",
       "  0.8500000238418579,\n",
       "  0.8500000238418579,\n",
       "  0.8500000238418579,\n",
       "  0.8500000238418579,\n",
       "  0.8500000238418579,\n",
       "  0.8500000238418579,\n",
       "  0.8500000238418579,\n",
       "  0.8500000238418579,\n",
       "  0.8500000238418579,\n",
       "  0.8500000238418579,\n",
       "  0.8500000238418579,\n",
       "  0.8500000238418579,\n",
       "  0.8500000238418579]}"
      ]
     },
     "execution_count": 23,
     "metadata": {},
     "output_type": "execute_result"
    }
   ],
   "source": [
    "history.history"
   ]
  },
  {
   "cell_type": "markdown",
   "metadata": {},
   "source": [
    "Now visualize the loss over time using `history.history`: "
   ]
  },
  {
   "cell_type": "code",
   "execution_count": 24,
   "metadata": {},
   "outputs": [
    {
     "data": {
      "text/plain": [
       "[Text(0, 0.5, 'Accuracy'), Text(0.5, 0, 'Epoch')]"
      ]
     },
     "execution_count": 24,
     "metadata": {},
     "output_type": "execute_result"
    },
    {
     "data": {
      "image/png": "[encoded data removed]",
      "text/plain": [
       "<Figure size 864x576 with 1 Axes>"
      ]
     },
     "metadata": {
      "needs_background": "light"
     },
     "output_type": "display_data"
    },
    {
     "data": {
      "image/png": "[encoded data removed]",
      "text/plain": [
       "<Figure size 864x576 with 1 Axes>"
      ]
     },
     "metadata": {
      "needs_background": "light"
     },
     "output_type": "display_data"
    }
   ],
   "source": [
    "# The history.history[\"loss\"] entry is a dictionary with as many values as epochs that the\n",
    "# model was trained on. \n",
    "df_loss_acc = pd.DataFrame(history.history)\n",
    "df_loss= df_loss_acc[['loss','val_loss']]\n",
    "df_loss.rename(columns={'loss':'train','val_loss':'validation'},inplace=True)\n",
    "df_acc= df_loss_acc[['accuracy','val_accuracy']]\n",
    "df_acc.rename(columns={'accuracy':'train','val_accuracy':'validation'},inplace=True)\n",
    "df_loss.plot(title='Model loss',figsize=(12,8)).set(xlabel='Epoch',ylabel='Loss')\n",
    "df_acc.plot(title='Model Accuracy',figsize=(12,8)).set(xlabel='Epoch',ylabel='Accuracy')"
   ]
  },
  {
   "cell_type": "markdown",
   "metadata": {},
   "source": [
    "**Congratulations**! You've finished the assignment and built two models: One that recognizes  smiles, and another that recognizes SIGN language with almost 80% accuracy on the test set. In addition to that, you now also understand the applications of two Keras APIs: Sequential and Functional. Nicely done! \n",
    "\n",
    "By now, you know a bit about how the Functional API works and may have glimpsed the possibilities. In your next assignment, you'll really get a feel for its power when you get the opportunity to build a very deep ConvNet, using ResNets! "
   ]
  },
  {
   "cell_type": "markdown",
   "metadata": {},
   "source": [
    "<a name='6'></a>\n",
    "## 6 - Bibliography\n",
    "\n",
    "You're always encouraged to read the official documentation. To that end, you can find the docs for the Sequential and Functional APIs here: \n",
    "\n",
    "https://www.tensorflow.org/guide/keras/sequential_model\n",
    "\n",
    "https://www.tensorflow.org/guide/keras/functional"
   ]
  }
 ],
 "metadata": {
  "coursera": {
   "course_slug": "convolutional-neural-networks",
   "graded_item_id": "bwbJV",
   "launcher_item_id": "0TkXB"
  },
  "kernelspec": {
   "display_name": "Python 3",
   "language": "python",
   "name": "python3"
  },
  "language_info": {
   "codemirror_mode": {
    "name": "ipython",
    "version": 3
   },
   "file_extension": ".py",
   "mimetype": "text/x-python",
   "name": "python",
   "nbconvert_exporter": "python",
   "pygments_lexer": "ipython3",
   "version": "3.8.5"
  }
 },
 "nbformat": 4,
 "nbformat_minor": 2
}
